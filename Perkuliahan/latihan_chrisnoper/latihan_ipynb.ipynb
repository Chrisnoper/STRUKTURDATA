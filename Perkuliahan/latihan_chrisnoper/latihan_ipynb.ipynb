{
 "cells": [
  {
   "cell_type": "markdown",
   "id": "78b952d6",
   "metadata": {},
   "source": [
    "Menginput Tempat Tinggal"
   ]
  },
  {
   "cell_type": "code",
   "execution_count": 9,
   "id": "4046859d",
   "metadata": {},
   "outputs": [
    {
     "name": "stdout",
     "output_type": "stream",
     "text": [
      "Oalah, aku tau pamulang itu dimana\n"
     ]
    }
   ],
   "source": [
    "tempat_tinggal = input(\"Kamu tinggal dimana\")\n",
    "print(f\"Oalah, aku tau {tempat_tinggal} itu dimana\")"
   ]
  },
  {
   "cell_type": "markdown",
   "id": "2670a187",
   "metadata": {},
   "source": [
    "Menginput umur"
   ]
  },
  {
   "cell_type": "code",
   "execution_count": 6,
   "id": "80b4b08f",
   "metadata": {},
   "outputs": [
    {
     "name": "stdout",
     "output_type": "stream",
     "text": [
      "Wah,umur kamu masih 19 Baiklah jika begitu chrisnoper\n"
     ]
    }
   ],
   "source": [
    "umur = input(\"Berapa umur kamu: \")\n",
    "print(f\"Wah,umur kamu masih {umur} Baiklah jika begitu {nama}\")"
   ]
  },
  {
   "cell_type": "markdown",
   "id": "44587cb7",
   "metadata": {},
   "source": [
    "Menginput Nama"
   ]
  },
  {
   "cell_type": "code",
   "execution_count": 4,
   "id": "97688ad2",
   "metadata": {},
   "outputs": [
    {
     "name": "stdout",
     "output_type": "stream",
     "text": [
      "Haii, Selamat Datang chrisnoper\n"
     ]
    }
   ],
   "source": [
    "nama = input(\"Masukkan nama kamu: \")\n",
    "print(f\"Haii, Selamat Datang {nama}\")\n"
   ]
  }
 ],
 "metadata": {
  "kernelspec": {
   "display_name": "Python 3",
   "language": "python",
   "name": "python3"
  },
  "language_info": {
   "codemirror_mode": {
    "name": "ipython",
    "version": 3
   },
   "file_extension": ".py",
   "mimetype": "text/x-python",
   "name": "python",
   "nbconvert_exporter": "python",
   "pygments_lexer": "ipython3",
   "version": "3.12.3"
  }
 },
 "nbformat": 4,
 "nbformat_minor": 5
}
